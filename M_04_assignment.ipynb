{
 "cells": [
  {
   "attachments": {},
   "cell_type": "markdown",
   "metadata": {},
   "source": [
    "# 11.1 "
   ]
  },
  {
   "cell_type": "code",
   "execution_count": null,
   "metadata": {},
   "outputs": [],
   "source": [
    "# File name: zoo.py\n",
    "\n",
    "def hours():\n",
    "    print(\"Open 9-5 daily\")\n"
   ]
  },
  {
   "cell_type": "code",
   "execution_count": null,
   "metadata": {},
   "outputs": [],
   "source": [
    "import zoo\n",
    "zoo.hours()\n",
    "\n"
   ]
  },
  {
   "attachments": {},
   "cell_type": "markdown",
   "metadata": {},
   "source": [
    "open 9-5 daily "
   ]
  },
  {
   "attachments": {},
   "cell_type": "markdown",
   "metadata": {},
   "source": [
    "11.2"
   ]
  },
  {
   "cell_type": "code",
   "execution_count": null,
   "metadata": {},
   "outputs": [],
   "source": [
    "import zoo as menagerie\n",
    "menagerie.hours()\n"
   ]
  },
  {
   "attachments": {},
   "cell_type": "markdown",
   "metadata": {},
   "source": [
    "16.4"
   ]
  },
  {
   "cell_type": "code",
   "execution_count": null,
   "metadata": {},
   "outputs": [],
   "source": [
    "import sqlite3\n",
    "\n",
    "# Connect to the database (or create it if it doesn't exist)\n",
    "conn = sqlite3.connect('books.db')\n",
    "\n",
    "# Create a cursor object to execute SQL queries\n",
    "c = conn.cursor()\n",
    "\n",
    "# Create the books table\n",
    "c.execute('''CREATE TABLE books\n",
    "             (title text, author text, year integer)''')\n",
    "\n",
    "# Save the changes\n",
    "conn.commit()\n",
    "\n",
    "# Close the connection\n",
    "conn.close()\n"
   ]
  },
  {
   "attachments": {},
   "cell_type": "markdown",
   "metadata": {},
   "source": [
    "16.6"
   ]
  },
  {
   "cell_type": "code",
   "execution_count": null,
   "metadata": {},
   "outputs": [],
   "source": [
    "import sqlite3\n",
    "\n",
    "# Connect to the database\n",
    "conn = sqlite3.connect('books.db')\n",
    "\n",
    "# Create a cursor object to execute SQL queries\n",
    "c = conn.cursor()\n",
    "\n",
    "# Select the title column from the books table, ordered alphabetically\n",
    "c.execute('SELECT title FROM books ORDER BY title')\n",
    "\n",
    "# Print the results\n",
    "for row in c.fetchall():\n",
    "    print(row[0])\n",
    "\n",
    "# Close the connection\n",
    "conn.close()\n"
   ]
  },
  {
   "attachments": {},
   "cell_type": "markdown",
   "metadata": {},
   "source": [
    "16.8"
   ]
  },
  {
   "cell_type": "code",
   "execution_count": null,
   "metadata": {},
   "outputs": [],
   "source": [
    "from sqlalchemy import create_engine, Column, Integer, String\n",
    "from sqlalchemy.orm import sessionmaker\n",
    "from sqlalchemy.ext.declarative import declarative_base\n",
    "\n",
    "# Create a connection to the books database\n",
    "engine = create_engine('sqlite:///books.db')\n",
    "\n",
    "# Create a session object for interacting with the database\n",
    "Session = sessionmaker(bind=engine)\n",
    "session = Session()\n",
    "\n",
    "# Define a model for the book table\n",
    "Base = declarative_base()\n",
    "class Book(Base):\n",
    "    __tablename__ = 'books'\n",
    "    title = Column(String, primary_key=True)\n",
    "    author = Column(String)\n",
    "    year = Column(Integer)\n",
    "\n",
    "# Query the book table and order by title\n",
    "books = session.query(Book).order_by(Book.title)\n",
    "\n",
    "# Print the title column\n",
    "for book in books:\n",
    "    print(book.title)\n",
    "\n",
    "# Close the session\n",
    "session.close()\n"
   ]
  }
 ],
 "metadata": {
  "kernelspec": {
   "display_name": "Python 3",
   "language": "python",
   "name": "python3"
  },
  "language_info": {
   "codemirror_mode": {
    "name": "ipython",
    "version": 3
   },
   "file_extension": ".py",
   "mimetype": "text/x-python",
   "name": "python",
   "nbconvert_exporter": "python",
   "pygments_lexer": "ipython3",
   "version": "3.10.10"
  },
  "orig_nbformat": 4,
  "vscode": {
   "interpreter": {
    "hash": "73739fcc887608b4e1b005caa213c53b98ce372003578c2e3130b7d901ecbd97"
   }
  }
 },
 "nbformat": 4,
 "nbformat_minor": 2
}
